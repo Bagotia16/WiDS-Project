{
 "cells": [
  {
   "cell_type": "code",
   "execution_count": 1,
   "id": "f6ab7f89",
   "metadata": {},
   "outputs": [],
   "source": [
    "import requests\n",
    "import pandas as pd\n",
    "from bs4 import BeautifulSoup\n",
    "import os\n",
    "import pandas as pd"
   ]
  },
  {
   "cell_type": "code",
   "execution_count": 2,
   "id": "3024b95a",
   "metadata": {},
   "outputs": [],
   "source": [
    "URL = \"https://www.fincash.com/l/sports/ipl-2020-players-list-and-pricing-details\""
   ]
  },
  {
   "cell_type": "code",
   "execution_count": 3,
   "id": "2986995d",
   "metadata": {},
   "outputs": [],
   "source": [
    "headers = {\n",
    "    'User-Agent': 'Mozilla/5.0 (Macintosh; Intel Mac OS X 10.12; rv:55.0) Gecko/20100101 Firefox/55.0',\n",
    "}"
   ]
  },
  {
   "cell_type": "code",
   "execution_count": 4,
   "id": "ec768d40",
   "metadata": {},
   "outputs": [],
   "source": [
    "page = requests.get(URL, headers=headers)"
   ]
  },
  {
   "cell_type": "code",
   "execution_count": 5,
   "id": "b1b39a8d",
   "metadata": {},
   "outputs": [],
   "source": [
    "soup = BeautifulSoup(page.content, \"html.parser\")"
   ]
  },
  {
   "cell_type": "code",
   "execution_count": 6,
   "id": "2df4b187",
   "metadata": {},
   "outputs": [],
   "source": [
    "table = soup.find_all('table')[5]"
   ]
  },
  {
   "cell_type": "code",
   "execution_count": 7,
   "id": "07f03064",
   "metadata": {},
   "outputs": [],
   "source": [
    "df = pd.DataFrame(columns=['Player','Role','Price'])"
   ]
  },
  {
   "cell_type": "code",
   "execution_count": 8,
   "id": "86efbf63",
   "metadata": {},
   "outputs": [],
   "source": [
    "for row in table.find_all('tr'):\n",
    "    columns = row.find_all('td')\n",
    "    \n",
    "    if(columns != []):\n",
    "        Player = columns[0].text.strip()\n",
    "        Role = columns[1].text.strip()\n",
    "        Price = columns[2].text.strip('&0.')\n",
    "\n",
    "        df = df.append({'Player':Player,'Role':Role,'Price':Price}, ignore_index=True)"
   ]
  },
  {
   "cell_type": "code",
   "execution_count": 9,
   "id": "0b3a2fd5",
   "metadata": {},
   "outputs": [
    {
     "data": {
      "text/html": [
       "<div>\n",
       "<style scoped>\n",
       "    .dataframe tbody tr th:only-of-type {\n",
       "        vertical-align: middle;\n",
       "    }\n",
       "\n",
       "    .dataframe tbody tr th {\n",
       "        vertical-align: top;\n",
       "    }\n",
       "\n",
       "    .dataframe thead th {\n",
       "        text-align: right;\n",
       "    }\n",
       "</style>\n",
       "<table border=\"1\" class=\"dataframe\">\n",
       "  <thead>\n",
       "    <tr style=\"text-align: right;\">\n",
       "      <th></th>\n",
       "      <th>Player</th>\n",
       "      <th>Role</th>\n",
       "      <th>Price</th>\n",
       "    </tr>\n",
       "  </thead>\n",
       "  <tbody>\n",
       "    <tr>\n",
       "      <th>0</th>\n",
       "      <td>Rohit Sharma (R)</td>\n",
       "      <td>Batsman</td>\n",
       "      <td>15 crore</td>\n",
       "    </tr>\n",
       "    <tr>\n",
       "      <th>1</th>\n",
       "      <td>Anmolpreet Singh (R)</td>\n",
       "      <td>Batsman</td>\n",
       "      <td>80 lakhs</td>\n",
       "    </tr>\n",
       "    <tr>\n",
       "      <th>2</th>\n",
       "      <td>Ankul Roy (R)</td>\n",
       "      <td>Batsman</td>\n",
       "      <td>20 lakhs</td>\n",
       "    </tr>\n",
       "    <tr>\n",
       "      <th>3</th>\n",
       "      <td>Sherfane Rutherford (R)</td>\n",
       "      <td>Batsman</td>\n",
       "      <td>2 crore</td>\n",
       "    </tr>\n",
       "    <tr>\n",
       "      <th>4</th>\n",
       "      <td>Suryakumar Yadav (R)</td>\n",
       "      <td>Batsman</td>\n",
       "      <td>3.20 crore</td>\n",
       "    </tr>\n",
       "  </tbody>\n",
       "</table>\n",
       "</div>"
      ],
      "text/plain": [
       "                    Player     Role       Price\n",
       "0         Rohit Sharma (R)  Batsman    15 crore\n",
       "1     Anmolpreet Singh (R)  Batsman    80 lakhs\n",
       "2            Ankul Roy (R)  Batsman    20 lakhs\n",
       "3  Sherfane Rutherford (R)  Batsman     2 crore\n",
       "4     Suryakumar Yadav (R)  Batsman  3.20 crore"
      ]
     },
     "execution_count": 9,
     "metadata": {},
     "output_type": "execute_result"
    }
   ],
   "source": [
    "df.head()"
   ]
  },
  {
   "cell_type": "code",
   "execution_count": 10,
   "id": "0990cb70",
   "metadata": {},
   "outputs": [],
   "source": [
    "MI=df.to_csv('df.csv', index=False)"
   ]
  },
  {
   "cell_type": "code",
   "execution_count": 11,
   "id": "ed152cc4",
   "metadata": {},
   "outputs": [],
   "source": [
    "df.to_excel(r'MI.xlsx', index = False)"
   ]
  }
 ],
 "metadata": {
  "kernelspec": {
   "display_name": "Python 3 (ipykernel)",
   "language": "python",
   "name": "python3"
  },
  "language_info": {
   "codemirror_mode": {
    "name": "ipython",
    "version": 3
   },
   "file_extension": ".py",
   "mimetype": "text/x-python",
   "name": "python",
   "nbconvert_exporter": "python",
   "pygments_lexer": "ipython3",
   "version": "3.9.7"
  }
 },
 "nbformat": 4,
 "nbformat_minor": 5
}
