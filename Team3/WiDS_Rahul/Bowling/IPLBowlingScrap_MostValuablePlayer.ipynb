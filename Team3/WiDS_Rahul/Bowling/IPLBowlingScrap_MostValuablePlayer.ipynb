{
  "nbformat": 4,
  "nbformat_minor": 0,
  "metadata": {
    "colab": {
      "name": "IPLBowlingScrap_MostValuablePlayer",
      "provenance": []
    },
    "kernelspec": {
      "name": "python3",
      "display_name": "Python 3"
    },
    "language_info": {
      "name": "python"
    }
  },
  "cells": [
    {
      "cell_type": "code",
      "execution_count": 1,
      "metadata": {
        "colab": {
          "base_uri": "https://localhost:8080/"
        },
        "id": "tBoqp4xqGuNl",
        "outputId": "d7e1e82f-660d-463e-ff8f-52552d17ed5f"
      },
      "outputs": [
        {
          "output_type": "stream",
          "name": "stdout",
          "text": [
            "Collecting BeautifulSoup\n",
            "  Downloading BeautifulSoup-3.2.2.tar.gz (32 kB)\n",
            "\u001b[33mWARNING: Discarding https://files.pythonhosted.org/packages/40/f2/6c9f2f3e696ee6a1fb0e4d7850617e224ed2b0b1e872110abffeca2a09d4/BeautifulSoup-3.2.2.tar.gz#sha256=a04169602bff6e3138b1259dbbf491f5a27f9499dea9a8fbafd48843f9d89970 (from https://pypi.org/simple/beautifulsoup/). Command errored out with exit status 1: python setup.py egg_info Check the logs for full command output.\u001b[0m\n",
            "  Downloading BeautifulSoup-3.2.1.tar.gz (31 kB)\n",
            "\u001b[33mWARNING: Discarding https://files.pythonhosted.org/packages/1e/ee/295988deca1a5a7accd783d0dfe14524867e31abb05b6c0eeceee49c759d/BeautifulSoup-3.2.1.tar.gz#sha256=6a8cb4401111e011b579c8c52a51cdab970041cc543814bbd9577a4529fe1cdb (from https://pypi.org/simple/beautifulsoup/). Command errored out with exit status 1: python setup.py egg_info Check the logs for full command output.\u001b[0m\n",
            "  Downloading BeautifulSoup-3.2.0.tar.gz (31 kB)\n",
            "\u001b[33mWARNING: Discarding https://files.pythonhosted.org/packages/33/fe/15326560884f20d792d3ffc7fe8f639aab88647c9d46509a240d9bfbb6b1/BeautifulSoup-3.2.0.tar.gz#sha256=0dc52d07516c1665c9dd9f0a390a7a054bfb7b147a50b2866fb116b8909dfd37 (from https://pypi.org/simple/beautifulsoup/). Command errored out with exit status 1: python setup.py egg_info Check the logs for full command output.\u001b[0m\n",
            "\u001b[31mERROR: Could not find a version that satisfies the requirement BeautifulSoup (from versions: 3.2.0, 3.2.1, 3.2.2)\u001b[0m\n",
            "\u001b[31mERROR: No matching distribution found for BeautifulSoup\u001b[0m\n",
            "Requirement already satisfied: html5lib in /usr/local/lib/python3.7/dist-packages (1.0.1)\n",
            "Requirement already satisfied: six>=1.9 in /usr/local/lib/python3.7/dist-packages (from html5lib) (1.15.0)\n",
            "Requirement already satisfied: webencodings in /usr/local/lib/python3.7/dist-packages (from html5lib) (0.5.1)\n"
          ]
        }
      ],
      "source": [
        "!pip install BeautifulSoup\n",
        "!pip install html5lib"
      ]
    },
    {
      "cell_type": "code",
      "source": [
        "import requests as req\n",
        "from bs4 import BeautifulSoup as Soup"
      ],
      "metadata": {
        "id": "982RX9sRG-TI"
      },
      "execution_count": 2,
      "outputs": []
    },
    {
      "cell_type": "code",
      "source": [
        "r = req.get('https://www.iplt20.com/stats/2021/playerPoints?stats_type=bowling')\n",
        "html_soup = Soup( r.text , 'html.parser')"
      ],
      "metadata": {
        "id": "p4tP6uosHDUb"
      },
      "execution_count": 3,
      "outputs": []
    },
    {
      "cell_type": "code",
      "source": [
        "table = html_soup.find_all(\"table\", class_ = \"np-mostruns_table\")\n",
        "rows = table[1].find_all(\"tr\", class_=\"\")"
      ],
      "metadata": {
        "id": "-U53SZBLHLds"
      },
      "execution_count": 4,
      "outputs": []
    },
    {
      "cell_type": "code",
      "source": [
        "headers = 'Player, Pts, Mat, Wkts, Dots, 4s, 6s, Catches, Run outs, Stumpings\\n'\n",
        "f = open('mostvaluableplayer.csv', 'w')\n",
        "f.write(headers)"
      ],
      "metadata": {
        "colab": {
          "base_uri": "https://localhost:8080/"
        },
        "id": "TAjSpOhbHsxB",
        "outputId": "d90b8d2f-fd64-4488-b0c0-f09208f4700e"
      },
      "execution_count": 5,
      "outputs": [
        {
          "output_type": "execute_result",
          "data": {
            "text/plain": [
              "67"
            ]
          },
          "metadata": {},
          "execution_count": 5
        }
      ]
    },
    {
      "cell_type": "code",
      "source": [
        "for row in rows:\n",
        "  name =  row.findAll('td',class_=\"\")[1].text.strip()\n",
        "  pts =  row.findAll('td',class_=\"np-tableruns\")[0].text.strip()\n",
        "  mats =  row.findAll('td',class_=\"\")[2].text.strip()\n",
        "  wkts =  row.findAll('td',class_=\"\")[3].text.strip()\n",
        "  dots =  row.findAll('td',class_=\"\")[4].text.strip()\n",
        "  fours =  row.findAll('td',class_=\"\")[5].text.strip()\n",
        "  sixes =  row.findAll('td',class_=\"\")[6].text.strip()\n",
        "  catches =  row.findAll('td',class_=\"\")[7].text.strip()\n",
        "  runouts =  row.findAll('td',class_=\"\")[8].text.strip()\n",
        "  stumpings=  row.findAll('td',class_=\"\")[9].text.strip()\n",
        "  print(name, pts, mats, wkts, dots, fours, sixes, catches, runouts, stumpings)\n",
        "  f.write(name+','+pts+','+mats+','+ wkts+','+ dots+','+ fours+','+ sixes+','+ catches+','+ runouts+','+ stumpings+'\\n')\n",
        "\n",
        "f.close()"
      ],
      "metadata": {
        "colab": {
          "base_uri": "https://localhost:8080/"
        },
        "id": "CIxgrtMqHUgY",
        "outputId": "b07997e0-7358-4cc5-9926-a98d5b283c89"
      },
      "execution_count": 6,
      "outputs": [
        {
          "output_type": "stream",
          "name": "stdout",
          "text": [
            "Harshal Patel 264.5 15 32 122 6 2 3 1 0\n",
            "Ravindra Jadeja 263 16 13 104 19 9 13 2 0\n",
            "Faf du Plessis 260.5 16 0 0 60 23 12 0 0\n",
            "Ruturaj Gaikwad 255.5 16 0 0 64 23 6 0 0\n",
            "KL Rahul 253.5 13 0 0 48 30 11 1 0\n",
            "Avesh Khan 245 16 24 156 1 0 1 0 0\n",
            "Glenn Maxwell 241.5 15 3 25 48 21 5 0 0\n",
            "Shikhar Dhawan 236 16 0 0 63 16 9 0 0\n",
            "Moeen Ali 232.5 15 6 50 31 19 7 0 0\n",
            "Jasprit Bumrah 231.5 14 21 142 2 0 4 1 0\n",
            "Rashid Khan 227.5 14 18 130 9 2 2 0 0\n",
            "Kagiso Rabada 217 15 15 135 2 0 9 2 0\n",
            "Sunil Narine 217 14 16 131 3 5 2 0 0\n",
            "Shardul Thakur 216.5 16 21 137 0 0 2 1 0\n",
            "Varun Chakaravarthy 216.5 17 18 149 0 0 1 2 0\n",
            "Mohammad Shami 215 14 19 145 0 0 1 1 0\n",
            "Prithvi Shaw 205.5 15 0 0 56 18 1 0 0\n",
            "Sanju Samson 202.5 14 0 0 45 17 7 3 4\n",
            "Mohammed Siraj 202.5 15 11 147 1 1 4 1 0\n",
            "Yuzvendra Chahal 201 15 18 127 0 0 4 1 0\n",
            "Trent Boult 196 14 13 138 0 0 5 0 0\n",
            "Deepak Chahar 195.5 15 14 132 0 0 5 2 0\n",
            "Venkatesh Iyer 184.5 10 3 14 37 14 7 1 0\n",
            "Shubman Gill 182 17 0 0 50 12 6 0 0\n",
            "Mayank Agarwal 180.5 12 0 0 42 18 5 0 0\n",
            "Chris Morris 177 11 15 91 2 5 4 1 0\n",
            "Chetan Sakariya 177 14 14 113 2 0 4 0 0\n",
            "Rishabh Pant 176.5 16 0 0 42 10 10 4 3\n",
            "Devdutt Padikkal 176.5 14 0 0 44 14 7 0 0\n",
            "Axar Patel 171 12 15 99 2 1 4 1 0\n",
            "Mustafizur Rahman 170 14 14 113 0 1 1 2 0\n",
            "Andre Russell 166.5 10 11 39 14 14 2 0 0\n",
            "Arshdeep Singh 163 12 18 88 0 0 4 2 0\n",
            "Rahul Tripathi 162 17 0 0 41 11 8 1 0\n",
            "Jason Holder 162 8 16 75 2 6 2 0 0\n",
            "Virat Kohli 161 15 0 0 43 9 8 2 0\n",
            "Nitish Rana 159.5 17 0 5 34 17 4 0 0\n",
            "Kieron Pollard 155.5 14 5 26 16 16 6 1 0\n",
            "Shivam Mavi 155 9 11 91 2 2 5 1 0\n",
            "AB de Villiers 153 15 0 0 23 16 15 2 0\n",
            "Prasidh Krishna 151.5 10 12 102 0 0 3 0 0\n",
            "Dwayne Bravo 149.5 11 14 73 3 4 2 1 0\n",
            "Rahul Chahar 148.5 11 13 93 1 0 3 0 0\n",
            "Suryakumar Yadav 147.5 14 0 0 40 10 5 0 0\n",
            "Krunal Pandya 147.5 13 5 68 10 6 6 1 0\n",
            "Pat Cummins 137 7 9 60 5 8 2 0 0\n",
            "Lockie Ferguson 137 8 13 76 1 1 3 2 0\n",
            "Ravichandran Ashwin 135.5 13 7 95 2 1 3 0 0\n",
            "Rohit Sharma 134 13 0 0 33 14 1 0 0\n",
            "Sam Curran 134 9 9 76 5 3 1 1 0\n",
            "Ravi Bishnoi 132 9 12 84 0 0 2 1 0\n",
            "Bhuvneshwar Kumar 131.5 11 6 103 3 0 0 0 0\n",
            "Rahul Tewatia 131.5 14 8 50 11 6 2 0 0\n",
            "Kyle Jamieson 129.5 9 9 70 5 3 2 0 0\n",
            "Anrich Nortje 128.5 8 12 84 0 0 1 0 0\n",
            "Josh Hazlewood 128 9 11 87 0 0 1 0 0\n",
            "Yashasvi Jaiswal 122.5 10 0 0 32 10 3 0 0\n",
            "Jos Buttler 121.5 7 0 0 27 13 3 1 0\n",
            "Quinton de Kock 112 11 0 0 29 7 4 0 2\n",
            "Jonny Bairstow 111 7 0 0 20 15 2 1 1\n",
            "Deepak Hooda 109.5 12 2 31 9 9 7 0 0\n",
            "Ambati Rayudu 105.5 16 0 0 16 17 2 1 0\n",
            "Dinesh Karthik 101 17 0 0 22 7 5 4 2\n",
            "Shimron Hetmyer 100.5 14 0 0 19 12 4 1 0\n",
            "Manish Pandey 100 8 0 0 21 10 5 0 0\n",
            "Siddarth Kaul 99.5 8 7 70 1 0 1 0 0\n",
            "Kane Williamson 98 10 0 0 29 2 7 1 0\n",
            "Ishan Kishan 96 10 0 0 21 10 3 1 0\n",
            "Harpreet Brar 93 7 5 56 3 2 2 0 0\n",
            "Shivam Dube 92 9 0 7 18 10 2 0 0\n",
            "Chris Gayle 88 10 0 0 21 8 3 0 0\n",
            "Shakib Al Hasan 84.5 8 4 50 3 1 3 2 0\n",
            "Jaydev Unadkat 83 6 4 52 3 2 1 0 0\n",
            "Nathan Coulter-Nile 82.5 5 7 53 0 0 2 0 0\n",
            "Suresh Raina 81.5 12 0 0 13 9 7 0 0\n",
            "Abhishek Sharma 75.5 8 4 25 7 4 2 0 0\n",
            "Khaleel Ahmed 74.5 7 5 56 0 0 0 1 0\n",
            "MS Dhoni 74 16 0 0 12 3 13 1 0\n",
            "Shahbaz Ahmed 72.5 11 7 21 4 2 4 0 0\n",
            "Evin Lewis 69.5 5 0 0 18 7 0 0 0\n",
            "Dan Christian 68 9 4 29 1 0 9 0 0\n",
            "Shahrukh Khan 67.5 11 0 0 9 10 4 0 0\n",
            "Sandeep Sharma 67.5 7 3 52 1 0 1 0 0\n",
            "K.S Bharat 65.5 8 0 0 10 8 4 0 1\n",
            "Lalit Yadav 65 7 4 21 7 0 5 0 0\n",
            "Eoin Morgan 64.5 17 0 0 8 6 9 1 0\n",
            "David Warner 64.5 8 0 0 15 6 2 1 0\n",
            "Jayant Yadav 64.5 5 2 44 2 1 2 0 0\n",
            "Jason Roy 63.5 5 0 0 21 1 3 0 0\n",
            "Abdul Samad 62.5 11 1 1 4 8 8 0 0\n",
            "Steve Smith 62 8 0 0 13 2 9 0 0\n",
            "Aiden Markram 60.5 6 0 9 12 4 3 0 0\n",
            "Marcus Stoinis 60 10 2 17 11 1 2 0 0\n",
            "Hardik Pandya 57 12 0 0 11 5 4 2 0\n",
            "Chris Woakes 56.5 3 5 33 2 0 0 1 0\n",
            "Riyan Parag 56.5 11 1 7 6 4 6 2 0\n",
            "Chris Jordan 54 4 4 27 1 3 0 0 0\n",
            "Vijay Shankar 54 7 3 22 1 3 3 1 0\n",
            "Kartik Tyagi 53.5 4 4 37 0 0 1 0 0\n",
            "Washington Sundar 52.5 6 3 32 2 0 2 0 0\n",
            "Riley Meredith 52 5 4 38 0 0 0 0 0\n",
            "Moises Henriques 51 5 4 31 0 1 1 0 0\n",
            "Shreyas Iyer 51 8 0 0 7 5 6 1 0\n",
            "Wriddhiman Saha 50 9 0 0 7 5 6 0 0\n",
            "Adam Milne 50 4 3 31 0 1 2 0 0\n",
            "David Miller 49 9 0 0 11 3 4 1 0\n",
            "Mohammad Nabi 47 3 2 13 3 2 5 0 0\n",
            "Amit Mishra 46 4 6 25 0 0 0 0 0\n",
            "Lungi Ngidi 45 3 5 25 0 0 1 0 0\n",
            "George Garton 45 5 3 32 0 0 1 0 0\n",
            "Mahipal Lomror 45 4 1 13 3 6 0 0 0\n",
            "Jhye Richardson 42 3 3 24 2 0 1 0 0\n",
            "Tim Southee 38.5 3 3 23 0 0 2 0 0\n",
            "Jimmy Neesham 38.5 3 5 21 0 0 0 0 0\n",
            "Umran Malik 38 3 2 31 0 0 0 0 0\n",
            "Tom Curran 38 3 4 19 2 0 0 0 0\n",
            "Robin Uthappa 37.5 4 0 0 8 5 0 0 0\n",
            "Saurabh Tiwary 34.5 5 0 0 10 2 1 0 0\n",
            "Nathan Ellis 34 3 1 27 0 1 0 0 0\n",
            "Nicholas Pooran 32.5 12 0 0 3 5 3 0 0\n",
            "Ishant Sharma 29.5 3 1 26 0 0 0 0 0\n",
            "Fabian Allen 28.5 4 1 20 0 0 2 0 0\n",
            "Chris Lynn 25.5 1 0 0 4 3 2 0 0\n",
            "Murugan Ashwin 25 3 1 19 1 0 0 0 0\n",
            "Marco Jansen 23.5 2 2 14 0 0 1 0 0\n",
            "Jagadeesha Suchith 23 2 0 11 2 1 1 1 0\n",
            "Imran Tahir 22 1 2 14 0 0 0 1 0\n",
            "Harbhajan Singh 21.5 3 0 19 0 0 1 0 0\n",
            "T Natarajan 21 2 2 14 0 0 0 0 0\n",
            "Rajat Patidar 20.5 4 0 0 3 3 1 0 0\n",
            "Manan Vohra 19.5 4 0 0 5 2 0 0 0\n",
            "Glenn Phillips 19.5 3 1 4 1 2 1 0 0\n",
            "Liam Livingstone 18.5 5 0 0 3 1 3 0 0\n",
            "Daniel Sams 18.5 2 1 15 0 0 0 0 0\n",
            "Kedar Jadhav 17 6 0 0 2 2 2 0 0\n",
            "Mujeeb Ur Rahman 17 1 2 10 0 0 0 0 0\n",
            "Priyam Garg 15.5 5 0 0 2 3 0 0 0\n",
            "Shahbaz Nadeem 15 1 1 9 0 0 1 0 0\n",
            "Shreyas Gopal 14.5 3 0 11 0 1 0 0 0\n",
            "Ishan Porel 13.5 1 1 10 0 0 0 0 0\n",
            "Ripal Patel 12.5 2 0 5 3 0 0 0 0\n",
            "Wanindu Hasaranga 11 2 0 11 0 0 0 0 0\n",
            "Kane Richardson 11 1 1 5 0 0 1 0 0\n",
            "Lukman Meriwala 9.5 1 1 6 0 0 0 0 0\n",
            "Dawid Malan 8.5 1 0 0 1 1 1 0 0\n",
            "Anmolpreet Singh 8.5 1 0 0 2 1 0 0 0\n",
            "Navdeep Saini 7.5 2 0 5 0 0 1 0 0\n",
            "Mandeep Singh 7.5 1 0 0 2 0 1 0 0\n",
            "Anuj Rawat 7.5 2 0 0 0 0 3 0 0\n",
            "Virat Singh 7.5 3 0 0 1 0 2 0 0\n"
          ]
        }
      ]
    }
  ]
}