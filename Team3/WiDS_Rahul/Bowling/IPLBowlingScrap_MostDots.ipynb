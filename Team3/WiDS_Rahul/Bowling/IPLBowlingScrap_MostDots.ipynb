{
  "nbformat": 4,
  "nbformat_minor": 0,
  "metadata": {
    "colab": {
      "name": "IPLBowlingScrap_MostDots",
      "provenance": []
    },
    "kernelspec": {
      "name": "python3",
      "display_name": "Python 3"
    },
    "language_info": {
      "name": "python"
    }
  },
  "cells": [
    {
      "cell_type": "code",
      "execution_count": 1,
      "metadata": {
        "colab": {
          "base_uri": "https://localhost:8080/"
        },
        "id": "ip4FEvapT-2M",
        "outputId": "0629f203-75a7-439b-b77b-4180bd16ccc6"
      },
      "outputs": [
        {
          "output_type": "stream",
          "name": "stdout",
          "text": [
            "Collecting BeautifulSoup\n",
            "  Downloading BeautifulSoup-3.2.2.tar.gz (32 kB)\n",
            "\u001b[33mWARNING: Discarding https://files.pythonhosted.org/packages/40/f2/6c9f2f3e696ee6a1fb0e4d7850617e224ed2b0b1e872110abffeca2a09d4/BeautifulSoup-3.2.2.tar.gz#sha256=a04169602bff6e3138b1259dbbf491f5a27f9499dea9a8fbafd48843f9d89970 (from https://pypi.org/simple/beautifulsoup/). Command errored out with exit status 1: python setup.py egg_info Check the logs for full command output.\u001b[0m\n",
            "  Downloading BeautifulSoup-3.2.1.tar.gz (31 kB)\n",
            "\u001b[33mWARNING: Discarding https://files.pythonhosted.org/packages/1e/ee/295988deca1a5a7accd783d0dfe14524867e31abb05b6c0eeceee49c759d/BeautifulSoup-3.2.1.tar.gz#sha256=6a8cb4401111e011b579c8c52a51cdab970041cc543814bbd9577a4529fe1cdb (from https://pypi.org/simple/beautifulsoup/). Command errored out with exit status 1: python setup.py egg_info Check the logs for full command output.\u001b[0m\n",
            "  Downloading BeautifulSoup-3.2.0.tar.gz (31 kB)\n",
            "\u001b[33mWARNING: Discarding https://files.pythonhosted.org/packages/33/fe/15326560884f20d792d3ffc7fe8f639aab88647c9d46509a240d9bfbb6b1/BeautifulSoup-3.2.0.tar.gz#sha256=0dc52d07516c1665c9dd9f0a390a7a054bfb7b147a50b2866fb116b8909dfd37 (from https://pypi.org/simple/beautifulsoup/). Command errored out with exit status 1: python setup.py egg_info Check the logs for full command output.\u001b[0m\n",
            "\u001b[31mERROR: Could not find a version that satisfies the requirement BeautifulSoup (from versions: 3.2.0, 3.2.1, 3.2.2)\u001b[0m\n",
            "\u001b[31mERROR: No matching distribution found for BeautifulSoup\u001b[0m\n",
            "Requirement already satisfied: html5lib in /usr/local/lib/python3.7/dist-packages (1.0.1)\n",
            "Requirement already satisfied: webencodings in /usr/local/lib/python3.7/dist-packages (from html5lib) (0.5.1)\n",
            "Requirement already satisfied: six>=1.9 in /usr/local/lib/python3.7/dist-packages (from html5lib) (1.15.0)\n"
          ]
        }
      ],
      "source": [
        "!pip install BeautifulSoup\n",
        "!pip install html5lib"
      ]
    },
    {
      "cell_type": "code",
      "source": [
        "import requests as req\n",
        "from bs4 import BeautifulSoup as Soup\n",
        "import pandas as pd"
      ],
      "metadata": {
        "id": "jRNrCeJCUL-l"
      },
      "execution_count": 2,
      "outputs": []
    },
    {
      "cell_type": "code",
      "source": [
        "r = req.get('https://www.iplt20.com/stats/2021/mostDotBalls?stats_type=bowling')\n",
        "html_soup = Soup( r.text , 'html.parser')"
      ],
      "metadata": {
        "id": "48wLmR8uUMBG"
      },
      "execution_count": 3,
      "outputs": []
    },
    {
      "cell_type": "code",
      "source": [
        "table = html_soup.find_all(\"table\", class_ = \"np-mostruns_table\")\n",
        "rows = table[1].find_all(\"tr\", class_=\"\")"
      ],
      "metadata": {
        "id": "SjwlwfhhUMEE"
      },
      "execution_count": 4,
      "outputs": []
    },
    {
      "cell_type": "code",
      "source": [
        "headers = 'Player, Mat, inn, ov, Runs, Wkts, BBI, Avg, Econ, SR, 4W, 5W\\n'\n",
        "f = open('mostdots.csv', 'w')\n",
        "f.write(headers)"
      ],
      "metadata": {
        "colab": {
          "base_uri": "https://localhost:8080/"
        },
        "id": "rJVg-uf_UMHZ",
        "outputId": "8322764d-72b1-49e7-bb2d-06df956c3134"
      },
      "execution_count": 5,
      "outputs": [
        {
          "output_type": "execute_result",
          "data": {
            "text/plain": [
              "61"
            ]
          },
          "metadata": {},
          "execution_count": 5
        }
      ]
    },
    {
      "cell_type": "code",
      "source": [
        "for row in rows:\n",
        "  name =  row.findAll('td',class_=\"\")[1].text.strip()\n",
        "  match =  row.findAll('td',class_=\"\")[2].text.strip()\n",
        "  inns =  row.findAll('td',class_=\"\")[3].text.strip()\n",
        "  overs =  row.findAll('td',class_=\"\")[4].text.strip()\n",
        "  runs =  row.findAll('td',class_=\"\")[5].text.strip()\n",
        "  wkts =  row.findAll('td',class_=\"\")[6].text.strip()\n",
        "  BBI =  row.findAll('td',class_=\"np-tableruns\")[0].text.strip()\n",
        "  avg =  row.findAll('td',class_=\"\")[7].text.strip()\n",
        "  econ=  row.findAll('td',class_=\"\")[8].text.strip()\n",
        "  SR =  row.findAll('td',class_=\"\")[9].text.strip()\n",
        "  four_wkt =  row.findAll('td',class_=\"\")[10].text.strip()\n",
        "  five_wkt =  row.findAll('td',class_=\"\")[11].text.strip()\n",
        "  print(name+','+ match+','+ inns+','+ overs+','+ runs+','+ wkts+','+ BBI+','+ avg+','+ econ+','+ SR+','+ four_wkt+','+five_wkt)\n",
        "  f.write(name+','+match+','+inns+','+ overs+','+ runs+','+ wkts+','+ BBI+','+ avg+','+ econ+','+ SR+','+ four_wkt+','+ five_wkt+'\\n')\n",
        "  \n",
        "\n",
        "f.close()"
      ],
      "metadata": {
        "colab": {
          "base_uri": "https://localhost:8080/"
        },
        "id": "WunmMz82VYKt",
        "outputId": "9c9056c8-2b16-49f3-c985-b80aad0e6ffb"
      },
      "execution_count": 6,
      "outputs": [
        {
          "output_type": "stream",
          "name": "stdout",
          "text": [
            "Avesh Khan,16,16,61,450,24,156,18.75,7.37,15.25,0,0\n",
            "Varun Chakaravarthy,17,17,68,448,18,149,24.88,6.58,22.66,0,0\n",
            "Mohammed Siraj,15,15,52,353,11,147,32.09,6.78,28.36,0,0\n",
            "Mohammad Shami,14,14,52.4,395,19,145,20.78,7.50,16.63,0,0\n",
            "Jasprit Bumrah,14,14,55,410,21,142,19.52,7.45,15.71,0,0\n",
            "Trent Boult,14,14,51.2,406,13,138,31.23,7.90,23.69,0,0\n",
            "Shardul Thakur,16,16,59.5,527,21,137,25.09,8.80,17.09,0,0\n",
            "Kagiso Rabada,15,15,56,456,15,135,30.40,8.14,22.40,0,0\n",
            "Deepak Chahar,15,15,54,451,14,132,32.21,8.35,23.14,2,0\n",
            "Sunil Narine,14,14,56,361,16,131,22.56,6.44,21.00,1,0\n",
            "Rashid Khan,14,14,56,375,18,130,20.83,6.69,18.66,0,0\n",
            "Yuzvendra Chahal,15,15,53,374,18,127,20.77,7.05,17.66,0,0\n",
            "Harshal Patel,15,15,56.2,459,32,122,14.34,8.14,10.56,1,1\n",
            "Chetan Sakariya,14,14,52,426,14,113,30.42,8.19,22.28,0,0\n",
            "Mustafizur Rahman,14,14,51.5,436,14,113,31.14,8.41,22.21,0,0\n",
            "Ravindra Jadeja,16,16,49,346,13,104,26.61,7.06,22.61,0,0\n",
            "Bhuvneshwar Kumar,11,11,42,335,6,103,55.83,7.97,42.00,0,0\n",
            "Prasidh Krishna,10,10,38.3,351,12,102,29.25,9.11,19.25,0,0\n",
            "Axar Patel,12,12,46,306,15,99,20.40,6.65,18.40,0,0\n",
            "Ravichandran Ashwin,13,13,44.4,331,7,95,47.28,7.41,38.28,0,0\n",
            "Rahul Chahar,11,11,43,318,13,93,24.46,7.39,19.84,1,0\n",
            "Shivam Mavi,9,9,32.1,233,11,91,21.18,7.24,17.54,1,0\n",
            "Chris Morris,11,11,41,376,15,91,25.06,9.17,16.40,1,0\n",
            "Arshdeep Singh,12,12,41.2,342,18,88,19.00,8.27,13.77,0,1\n",
            "Josh Hazlewood,9,9,35,293,11,87,26.63,8.37,19.09,0,0\n",
            "Anrich Nortje,8,8,30.2,187,12,84,15.58,6.16,15.16,0,0\n",
            "Ravi Bishnoi,9,9,35,222,12,84,18.50,6.34,17.50,0,0\n",
            "Lockie Ferguson,8,8,30,224,13,76,17.23,7.46,13.84,0,0\n",
            "Sam Curran,9,9,33,328,9,76,36.44,9.93,22.00,0,0\n",
            "Jason Holder,8,8,31.5,247,16,75,15.43,7.75,11.93,1,0\n",
            "Dwayne Bravo,11,11,33.4,263,14,73,18.78,7.81,14.42,0,0\n",
            "Siddarth Kaul,8,8,30,247,7,70,35.28,8.23,25.71,0,0\n",
            "Kyle Jamieson,9,9,28,269,9,70,29.88,9.60,18.66,0,0\n",
            "Krunal Pandya,13,12,33.1,265,5,68,53.00,7.98,39.80,0,0\n",
            "Pat Cummins,7,7,26.5,237,9,60,26.33,8.83,17.88,0,0\n",
            "Harpreet Brar,7,7,23,139,5,56,27.80,6.04,27.60,0,0\n",
            "Khaleel Ahmed,7,7,27,219,5,56,43.80,8.11,32.40,0,0\n",
            "Nathan Coulter-Nile,5,5,20,127,7,53,18.14,6.35,17.14,1,0\n",
            "Jaydev Unadkat,6,6,22,168,4,52,42.00,7.63,33.00,0,0\n",
            "Sandeep Sharma,7,7,23.3,203,3,52,67.66,8.63,47.00,0,0\n",
            "Moeen Ali,15,10,25.2,161,6,50,26.83,6.35,25.33,0,0\n",
            "Shakib Al Hasan,8,8,26,187,4,50,46.75,7.19,39.00,0,0\n",
            "Rahul Tewatia,14,13,37,340,8,50,42.50,9.18,27.75,0,0\n",
            "Jayant Yadav,5,5,17,130,2,44,65.00,7.64,51.00,0,0\n",
            "Andre Russell,10,8,19,188,11,39,17.09,9.89,10.36,0,1\n",
            "Riley Meredith,5,5,17,169,4,38,42.25,9.94,25.50,0,0\n",
            "Kartik Tyagi,4,4,14,124,4,37,31.00,8.85,21.00,0,0\n",
            "Chris Woakes,3,3,11,82,5,33,16.40,7.45,13.20,0,0\n",
            "Washington Sundar,6,6,16,118,3,32,39.33,7.37,32.00,0,0\n",
            "George Garton,5,5,15,135,3,32,45.00,9.00,30.00,0,0\n",
            "Moises Henriques,5,5,10,45,4,31,11.25,4.50,15.00,0,0\n",
            "Umran Malik,3,3,12,96,2,31,48.00,8.00,36.00,0,0\n",
            "Deepak Hooda,12,7,16,136,2,31,68.00,8.50,48.00,0,0\n",
            "Adam Milne,4,4,14,131,3,31,43.66,9.35,28.00,0,0\n",
            "Dan Christian,9,9,16.4,155,4,29,38.75,9.30,25.00,0,0\n",
            "Chris Jordan,4,4,12,96,4,27,24.00,8.00,18.00,0,0\n",
            "Nathan Ellis,3,3,12,98,1,27,98.00,8.16,72.00,0,0\n",
            "Kieron Pollard,14,9,13.1,95,5,26,19.00,7.21,15.80,0,0\n",
            "Ishant Sharma,3,3,12,97,1,26,97.00,8.08,72.00,0,0\n",
            "Abhishek Sharma,8,6,10,64,4,25,16.00,6.40,15.00,0,0\n",
            "Amit Mishra,4,4,14,109,6,25,18.16,7.78,14.00,1,0\n",
            "Glenn Maxwell,15,6,16,135,3,25,45.00,8.43,32.00,0,0\n",
            "Lungi Ngidi,3,3,12,125,5,25,25.00,10.41,14.40,0,0\n",
            "Jhye Richardson,3,3,11,117,3,24,39.00,10.63,22.00,0,0\n",
            "Tim Southee,3,3,12,95,3,23,31.66,7.91,24.00,0,0\n",
            "Vijay Shankar,7,5,11,100,3,22,33.33,9.09,22.00,0,0\n",
            "Shahbaz Ahmed,11,6,14,92,7,21,13.14,6.57,12.00,0,0\n",
            "Lalit Yadav,7,5,14,101,4,21,25.25,7.21,21.00,0,0\n",
            "Jimmy Neesham,3,3,9,66,5,21,13.20,7.33,10.80,0,0\n",
            "Fabian Allen,4,3,11,90,1,20,90.00,8.18,66.00,0,0\n",
            "Murugan Ashwin,3,3,11,97,1,19,97.00,8.81,66.00,0,0\n",
            "Harbhajan Singh,3,3,7,63,0,19,0.00,9.00,0.00,0,0\n",
            "Tom Curran,3,3,11.2,104,4,19,26.00,9.17,17.00,0,0\n",
            "Marcus Stoinis,10,8,11.1,117,2,17,58.50,10.47,33.50,0,0\n",
            "Daniel Sams,2,2,6,39,1,15,39.00,6.50,36.00,0,0\n",
            "Imran Tahir,1,1,4,16,2,14,8.00,4.00,12.00,0,0\n",
            "Marco Jansen,2,2,6,45,2,14,22.50,7.50,18.00,0,0\n",
            "Venkatesh Iyer,10,4,8.3,69,3,14,23.00,8.11,17.00,0,0\n",
            "T Natarajan,2,2,8,69,2,14,34.50,8.62,24.00,0,0\n",
            "Mahipal Lomror,4,4,7,47,1,13,47.00,6.71,42.00,0,0\n",
            "Mohammad Nabi,3,3,8,86,2,13,43.00,10.75,24.00,0,0\n",
            "Jagadeesha Suchith,2,2,7,66,0,11,0.00,9.42,0.00,0,0\n",
            "Wanindu Hasaranga,2,2,6,60,0,11,0.00,10.00,0.00,0,0\n",
            "Shreyas Gopal,3,3,7,84,0,11,0.00,12.00,0.00,0,0\n",
            "Mujeeb Ur Rahman,1,1,4,29,2,10,14.50,7.25,12.00,0,0\n",
            "Ishan Porel,1,1,4,39,1,10,39.00,9.75,24.00,0,0\n",
            "Aiden Markram,6,2,4,23,0,9,0.00,5.75,0.00,0,0\n",
            "Shahbaz Nadeem,1,1,4,36,1,9,36.00,9.00,24.00,0,0\n",
            "Akash Singh,1,1,4,39,0,7,0.00,9.75,0.00,0,0\n",
            "Shivam Dube,9,4,5,49,0,7,0.00,9.80,0.00,0,0\n",
            "Riyan Parag,11,6,6.1,73,1,7,73.00,11.83,37.00,0,0\n",
            "Dhawal Kulkarni,1,1,4,48,0,7,0.00,12.00,0.00,0,0\n",
            "Sandeep Warrier,1,1,2,15,0,6,0.00,7.50,0.00,0,0\n",
            "Lukman Meriwala,1,1,3,32,1,6,32.00,10.66,18.00,0,0\n",
            "Adil Rashid,1,1,3,35,0,6,0.00,11.66,0.00,0,0\n",
            "Nitish Rana,17,2,2,12,0,5,0.00,6.00,0.00,0,0\n",
            "Ripal Patel,2,1,3,22,0,5,0.00,7.33,0.00,0,0\n",
            "Kuldip Yadav,1,1,2,16,0,5,0.00,8.00,0.00,0,0\n",
            "Jalaj Saxena,1,1,3,27,0,5,0.00,9.00,0.00,0,0\n",
            "Kane Richardson,1,1,3,29,1,5,29.00,9.66,18.00,0,0\n",
            "Navdeep Saini,2,2,4,52,0,5,0.00,13.00,0.00,0,0\n",
            "Mayank Markande,1,1,3,26,0,4,0.00,8.66,0.00,0,0\n",
            "Glenn Phillips,3,2,2,20,1,4,20.00,10.00,12.00,0,0\n",
            "Piyush Chawla,1,1,4,38,1,3,38.00,9.50,24.00,0,0\n",
            "KM Asif,1,1,2.1,18,1,2,18.00,8.30,13.00,0,0\n",
            "Tabraiz Shamsi,1,1,4,34,0,2,0.00,8.50,0.00,0,0\n",
            "Ben Stokes,1,1,1,12,0,2,0.00,12.00,0.00,0,0\n",
            "Kamlesh Nagarkoti,1,1,2,25,0,2,0.00,12.50,0.00,0,0\n",
            "Abdul Samad,11,1,1,9,1,1,9.00,9.00,6.00,0,0\n"
          ]
        }
      ]
    }
  ]
}