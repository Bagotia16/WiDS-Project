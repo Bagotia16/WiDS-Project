{
  "nbformat": 4,
  "nbformat_minor": 0,
  "metadata": {
    "colab": {
      "name": "IPLBowlingScrap_MostRunsConceded",
      "provenance": []
    },
    "kernelspec": {
      "name": "python3",
      "display_name": "Python 3"
    },
    "language_info": {
      "name": "python"
    }
  },
  "cells": [
    {
      "cell_type": "code",
      "execution_count": 1,
      "metadata": {
        "id": "vSc4ZgLBAnZG",
        "colab": {
          "base_uri": "https://localhost:8080/"
        },
        "outputId": "82d0f7cf-3ff3-4282-b991-436f033280f0"
      },
      "outputs": [
        {
          "output_type": "stream",
          "name": "stdout",
          "text": [
            "Collecting BeautifulSoup\n",
            "  Downloading BeautifulSoup-3.2.2.tar.gz (32 kB)\n",
            "\u001b[33mWARNING: Discarding https://files.pythonhosted.org/packages/40/f2/6c9f2f3e696ee6a1fb0e4d7850617e224ed2b0b1e872110abffeca2a09d4/BeautifulSoup-3.2.2.tar.gz#sha256=a04169602bff6e3138b1259dbbf491f5a27f9499dea9a8fbafd48843f9d89970 (from https://pypi.org/simple/beautifulsoup/). Command errored out with exit status 1: python setup.py egg_info Check the logs for full command output.\u001b[0m\n",
            "  Downloading BeautifulSoup-3.2.1.tar.gz (31 kB)\n",
            "\u001b[33mWARNING: Discarding https://files.pythonhosted.org/packages/1e/ee/295988deca1a5a7accd783d0dfe14524867e31abb05b6c0eeceee49c759d/BeautifulSoup-3.2.1.tar.gz#sha256=6a8cb4401111e011b579c8c52a51cdab970041cc543814bbd9577a4529fe1cdb (from https://pypi.org/simple/beautifulsoup/). Command errored out with exit status 1: python setup.py egg_info Check the logs for full command output.\u001b[0m\n",
            "  Downloading BeautifulSoup-3.2.0.tar.gz (31 kB)\n",
            "\u001b[33mWARNING: Discarding https://files.pythonhosted.org/packages/33/fe/15326560884f20d792d3ffc7fe8f639aab88647c9d46509a240d9bfbb6b1/BeautifulSoup-3.2.0.tar.gz#sha256=0dc52d07516c1665c9dd9f0a390a7a054bfb7b147a50b2866fb116b8909dfd37 (from https://pypi.org/simple/beautifulsoup/). Command errored out with exit status 1: python setup.py egg_info Check the logs for full command output.\u001b[0m\n",
            "\u001b[31mERROR: Could not find a version that satisfies the requirement BeautifulSoup (from versions: 3.2.0, 3.2.1, 3.2.2)\u001b[0m\n",
            "\u001b[31mERROR: No matching distribution found for BeautifulSoup\u001b[0m\n",
            "Requirement already satisfied: html5lib in /usr/local/lib/python3.7/dist-packages (1.0.1)\n",
            "Requirement already satisfied: six>=1.9 in /usr/local/lib/python3.7/dist-packages (from html5lib) (1.15.0)\n",
            "Requirement already satisfied: webencodings in /usr/local/lib/python3.7/dist-packages (from html5lib) (0.5.1)\n"
          ]
        }
      ],
      "source": [
        "!pip install BeautifulSoup\n",
        "!pip install html5lib"
      ]
    },
    {
      "cell_type": "code",
      "source": [
        "import requests as req\n",
        "from bs4 import BeautifulSoup as Soup"
      ],
      "metadata": {
        "id": "IaM4t9uDGIaN"
      },
      "execution_count": 2,
      "outputs": []
    },
    {
      "cell_type": "code",
      "source": [
        "r = req.get('https://www.iplt20.com/stats/2021/mostRunsConcededInn?stats_type=bowling')\n",
        "html_soup = Soup( r.text , 'html.parser')"
      ],
      "metadata": {
        "id": "6isKbSOqGIdB"
      },
      "execution_count": 3,
      "outputs": []
    },
    {
      "cell_type": "code",
      "source": [
        "table = html_soup.find_all(\"table\", class_ = \"np-mostruns_table\")\n",
        "rows = table[1].find_all(\"tr\", class_=\"\")"
      ],
      "metadata": {
        "id": "IGQcsg5DGIfR"
      },
      "execution_count": 4,
      "outputs": []
    },
    {
      "cell_type": "code",
      "source": [
        "headers = 'Player, Ov, Runs, Wkts, SR, Against, Venue, Match Date\\n'\n",
        "f = open('mostrunconceded.csv', 'w')\n",
        "f.write(headers)"
      ],
      "metadata": {
        "colab": {
          "base_uri": "https://localhost:8080/"
        },
        "id": "BH5ox_zAD7Oa",
        "outputId": "d23b4675-4f14-4f09-9078-7157b317976d"
      },
      "execution_count": 5,
      "outputs": [
        {
          "output_type": "execute_result",
          "data": {
            "text/plain": [
              "55"
            ]
          },
          "metadata": {},
          "execution_count": 5
        }
      ]
    },
    {
      "cell_type": "code",
      "source": [
        "for row in rows:\n",
        "  name =  row.findAll('td',class_=\"\")[1].text.strip()\n",
        "  overs =  row.findAll('td',class_=\"\")[2].text.strip()\n",
        "  runs=  row.findAll('td',class_=\"np-tableruns\")[0].text.strip()\n",
        "  wkts =  row.findAll('td',class_=\"\")[3].text.strip()\n",
        "  SR =  row.findAll('td',class_=\"\")[4].text.strip()\n",
        "  against =  row.findAll('td',class_=\"\")[5].text.strip()\n",
        "  venue =  row.findAll('td',class_=\"\")[6].text.strip()\n",
        "  match_date =  row.findAll('td',class_=\"\")[7].text.strip()\n",
        "  print(name, overs, runs, wkts, SR, against, venue, match_date)\n",
        "  f.write(name+','+overs+','+runs+','+ wkts+','+ SR+','+ against+','+ venue+','+match_date+'\\n')\n",
        "  \n",
        "\n",
        "f.close()"
      ],
      "metadata": {
        "colab": {
          "base_uri": "https://localhost:8080/"
        },
        "id": "WLLUa2uiGR12",
        "outputId": "657f5641-c5b5-447c-a59f-8f07189f982d"
      },
      "execution_count": 6,
      "outputs": [
        {
          "output_type": "stream",
          "name": "stdout",
          "text": [
            "Lungi Ngidi 4 62 0 0.00 MI Arun Jaitley Stadium 01 May 2021\n",
            "Pat Cummins 4 58 0 0.00 CSK Wankhede Stadium 21 April 2021\n",
            "Sam Curran 4 58 1 24.00 KKR Wankhede Stadium 21 April 2021\n",
            "Sam Curran 4 56 0 0.00 KKR Zayed Cricket Stadium 26 September 2021\n",
            "Lockie Ferguson 4 56 0 0.00 CSK Dubai International Stadium 15 October 2021\n",
            "Siddarth Kaul 4 56 0 0.00 MI Zayed Cricket Stadium 08 October 2021\n",
            "Shardul Thakur 4 56 1 24.00 MI Arun Jaitley Stadium 01 May 2021\n",
            "Jasprit Bumrah 4 56 1 24.00 CSK Arun Jaitley Stadium 01 May 2021\n",
            "Sam Curran 4 55 0 0.00 RR Zayed Cricket Stadium 02 October 2021\n",
            "Jhye Richardson 4 55 1 24.00 RR Wankhede Stadium 12 April 2021\n",
            "Josh Hazlewood 4 54 0 0.00 RR Zayed Cricket Stadium 02 October 2021\n",
            "Harshal Patel 4 53 0 0.00 PBKS Narendra Modi Stadium 30 April 2021\n",
            "Mohammad Shami 4 53 0 0.00 DC Wankhede Stadium 18 April 2021\n",
            "Shardul Thakur 3.4 53 2 11.00 DC Wankhede Stadium 10 April 2021\n",
            "Jason Holder 4 52 4 6.00 MI Zayed Cricket Stadium 08 October 2021\n",
            "Mustafizur Rahman 4 51 0 0.00 CSK Zayed Cricket Stadium 02 October 2021\n",
            "Harshal Patel 4 51 3 8.00 CSK Wankhede Stadium 25 April 2021\n",
            "Chris Morris 4 50 0 0.00 RCB Dubai International Stadium 29 September 2021\n",
            "Sandeep Sharma 4 50 1 24.00 RR Arun Jaitley Stadium 02 May 2021\n",
            "Prasidh Krishna 4 49 0 0.00 CSK Wankhede Stadium 21 April 2021\n",
            "Riley Meredith 4 49 1 24.00 RR Wankhede Stadium 12 April 2021\n",
            "Dhawal Kulkarni 4 48 0 0.00 CSK Arun Jaitley Stadium 01 May 2021\n",
            "Adam Milne 4 48 1 24.00 RCB Dubai International Stadium 26 September 2021\n",
            "Umran Malik 4 48 1 24.00 MI Zayed Cricket Stadium 08 October 2021\n",
            "Deepak Chahar 4 48 1 24.00 PBKS Dubai International Stadium 07 October 2021\n",
            "Shardul Thakur 3.1 48 0 0.00 KKR Wankhede Stadium 21 April 2021\n",
            "Chris Morris 4 47 0 0.00 PBKS Dubai International Stadium 21 September 2021\n",
            "Avesh Khan 4 47 1 24.00 CSK Dubai International Stadium 10 October 2021\n",
            "Ravichandran Ashwin 4 47 1 24.00 CSK Wankhede Stadium 10 April 2021\n",
            "Harshal Patel 4 47 3 8.00 RR Wankhede Stadium 22 April 2021\n",
            "Nathan Ellis 4 46 0 0.00 KKR Dubai International Stadium 01 October 2021\n",
            "Bhuvneshwar Kumar 4 45 0 0.00 MI Chidambaram 17 April 2021\n",
            "Mustafizur Rahman 4 45 0 0.00 PBKS Wankhede Stadium 12 April 2021\n",
            "Rahul Tewatia 4 45 1 24.00 SRH Arun Jaitley Stadium 02 May 2021\n",
            "Bhuvneshwar Kumar 4 45 1 24.00 KKR Chidambaram 11 April 2021\n",
            "Jagadeesha Suchith 3 45 0 0.00 CSK Arun Jaitley Stadium 28 April 2021\n",
            "Shardul Thakur 4 44 0 0.00 SRH Arun Jaitley Stadium 28 April 2021\n",
            "Mohammed Siraj 4 44 1 24.00 DC Narendra Modi Stadium 27 April 2021\n",
            "Murugan Ashwin 4 43 0 0.00 RR Wankhede Stadium 12 April 2021\n",
            "Rahul Chahar 4 43 0 0.00 RCB Chidambaram 09 April 2021\n",
            "Kagiso Rabada 4 43 1 24.00 PBKS Wankhede Stadium 18 April 2021\n",
            "Prasidh Krishna 4 43 2 12.00 MI Zayed Cricket Stadium 23 September 2021\n",
            "Jasprit Bumrah 4 43 3 8.00 KKR Zayed Cricket Stadium 23 September 2021\n",
            "Khaleel Ahmed 4 42 0 0.00 DC Chidambaram 25 April 2021\n",
            "Ravi Bishnoi 4 42 0 0.00 DC Narendra Modi Stadium 02 May 2021\n",
            "Mohammad Shami 4 42 1 24.00 MI Zayed Cricket Stadium 28 September 2021\n",
            "Prasidh Krishna 4 42 1 24.00 MI Chidambaram 13 April 2021\n",
            "Chris Woakes 4 42 1 24.00 PBKS Wankhede Stadium 18 April 2021\n",
            "Trent Boult 4 42 1 24.00 CSK Arun Jaitley Stadium 01 May 2021\n",
            "Arshdeep Singh 3 42 0 0.00 RCB Sharjah Cricket Stadium 03 October 2021\n",
            "Vijay Shankar 3 42 1 18.00 RR Arun Jaitley Stadium 02 May 2021\n",
            "Khaleel Ahmed 4 41 0 0.00 RR Arun Jaitley Stadium 02 May 2021\n",
            "Yuzvendra Chahal 4 41 0 0.00 MI Chidambaram 09 April 2021\n",
            "Prasidh Krishna 4 41 1 24.00 CSK Zayed Cricket Stadium 26 September 2021\n",
            "Ravichandran Ashwin 4 41 1 24.00 MI Sharjah Cricket Stadium 02 October 2021\n",
            "Chris Morris 4 41 2 12.00 PBKS Wankhede Stadium 12 April 2021\n",
            "Jhye Richardson 4 41 2 12.00 DC Wankhede Stadium 18 April 2021\n",
            "Sunil Narine 4 41 3 8.00 CSK Zayed Cricket Stadium 26 September 2021\n",
            "Kyle Jamieson 3 41 3 6.00 KKR Chidambaram 18 April 2021\n",
            "Wanindu Hasaranga 4 40 0 0.00 CSK Sharjah Cricket Stadium 24 September 2021\n",
            "Tim Southee 4 40 0 0.00 PBKS Dubai International Stadium 01 October 2021\n",
            "Jaydev Unadkat 4 40 0 0.00 CSK Wankhede Stadium 19 April 2021\n",
            "Kartik Tyagi 4 40 1 24.00 DC Zayed Cricket Stadium 25 September 2021\n",
            "Tom Curran 4 40 1 24.00 CSK Wankhede Stadium 10 April 2021\n",
            "Rashid Khan 4 40 2 12.00 MI Zayed Cricket Stadium 08 October 2021\n",
            "Josh Hazlewood 4 40 2 12.00 KKR Zayed Cricket Stadium 26 September 2021\n",
            "Nathan Coulter-Nile 4 40 2 12.00 SRH Zayed Cricket Stadium 08 October 2021\n",
            "Shreyas Gopal 3 40 0 0.00 PBKS Wankhede Stadium 12 April 2021\n",
            "Akash Singh 4 39 0 0.00 CSK Zayed Cricket Stadium 02 October 2021\n",
            "Ishan Porel 4 39 1 24.00 RR Dubai International Stadium 21 September 2021\n",
            "Avesh Khan 4 39 1 24.00 PBKS Narendra Modi Stadium 02 May 2021\n",
            "Axar Patel 4 39 1 24.00 RCB Dubai International Stadium 08 October 2021\n",
            "Rashid Khan 4 39 1 24.00 RCB Zayed Cricket Stadium 06 October 2021\n",
            "Varun Chakaravarthy 4 39 2 12.00 RCB Chidambaram 18 April 2021\n",
            "Jasprit Bumrah 4 39 2 12.00 SRH Zayed Cricket Stadium 08 October 2021\n",
            "Rahul Tewatia 4 39 3 8.00 CSK Zayed Cricket Stadium 02 October 2021\n",
            "Mohammad Shami 4 39 3 8.00 RCB Sharjah Cricket Stadium 03 October 2021\n",
            "Fabian Allen 4 38 0 0.00 KKR Dubai International Stadium 01 October 2021\n",
            "Varun Chakaravarthy 4 38 0 0.00 CSK Dubai International Stadium 15 October 2021\n",
            "Chetan Sakariya 4 38 0 0.00 SRH Arun Jaitley Stadium 02 May 2021\n",
            "Harbhajan Singh 4 38 0 0.00 RCB Chidambaram 18 April 2021\n",
            "Kagiso Rabada 4 38 1 24.00 RCB Narendra Modi Stadium 27 April 2021\n",
            "Piyush Chawla 4 38 1 24.00 SRH Zayed Cricket Stadium 08 October 2021\n",
            "Shardul Thakur 4 38 3 8.00 KKR Dubai International Stadium 15 October 2021\n",
            "Chris Morris 3 38 0 0.00 RCB Wankhede Stadium 22 April 2021\n",
            "Andre Russell 2 38 0 0.00 RCB Chidambaram 18 April 2021\n",
            "Bhuvneshwar Kumar 4 37 0 0.00 RR Arun Jaitley Stadium 02 May 2021\n",
            "Ishant Sharma 4 37 0 0.00 PBKS Narendra Modi Stadium 02 May 2021\n",
            "Kagiso Rabada 4 37 0 0.00 RCB Dubai International Stadium 08 October 2021\n",
            "Deepak Chahar 4 37 0 0.00 MI Arun Jaitley Stadium 01 May 2021\n",
            "Mustafizur Rahman 4 37 1 24.00 CSK Wankhede Stadium 19 April 2021\n",
            "Shardul Thakur 4 37 1 24.00 SRH Sharjah Cricket Stadium 30 September 2021\n",
            "T Natarajan 4 37 1 24.00 KKR Chidambaram 11 April 2021\n",
            "Anrich Nortje 4 37 1 24.00 CSK Dubai International Stadium 04 October 2021\n",
            "Trent Boult 4 37 1 24.00 RR Arun Jaitley Stadium 29 April 2021\n",
            "Ravindra Jadeja 4 37 2 12.00 KKR Dubai International Stadium 15 October 2021\n",
            "Harshal Patel 4 37 2 12.00 DC Narendra Modi Stadium 27 April 2021\n",
            "Kagiso Rabada 4 37 3 8.00 SRH Dubai International Stadium 22 September 2021\n",
            "Mustafizur Rahman 3.3 37 1 21.00 MI Arun Jaitley Stadium 29 April 2021\n",
            "Jayant Yadav 3 37 0 0.00 RR Arun Jaitley Stadium 29 April 2021\n",
            "Andre Russell 3 37 0 0.00 MI Zayed Cricket Stadium 23 September 2021\n",
            "Mohammad Shami 3 37 0 0.00 DC Narendra Modi Stadium 02 May 2021\n",
            "Deepak Hooda 2 37 0 0.00 RR Dubai International Stadium 21 September 2021\n",
            "Khaleel Ahmed 4 36 0 0.00 CSK Arun Jaitley Stadium 28 April 2021\n",
            "Sunil Narine 4 36 0 0.00 DC Narendra Modi Stadium 29 April 2021\n",
            "Shivam Mavi 4 36 0 0.00 RCB Sharjah Cricket Stadium 11 October 2021\n",
            "Deepak Chahar 4 36 0 0.00 DC Wankhede Stadium 10 April 2021\n",
            "Varun Chakaravarthy 4 36 0 0.00 SRH Chidambaram 11 April 2021\n",
            "Trent Boult 4 36 1 24.00 RCB Chidambaram 09 April 2021\n",
            "Shahbaz Nadeem 4 36 1 24.00 RCB Chidambaram 14 April 2021\n",
            "Siddarth Kaul 4 36 2 12.00 RR Dubai International Stadium 27 September 2021\n",
            "Chetan Sakariya 4 36 3 8.00 CSK Wankhede Stadium 19 April 2021\n",
            "Jasprit Bumrah 4 36 3 8.00 RCB Dubai International Stadium 26 September 2021\n",
            "Rashid Khan 4 36 3 8.00 CSK Arun Jaitley Stadium 28 April 2021\n",
            "Kagiso Rabada 4 36 3 8.00 PBKS Narendra Modi Stadium 02 May 2021\n",
            "Pat Cummins 3.5 36 0 0.00 RR Wankhede Stadium 24 April 2021\n",
            "Prasidh Krishna 3.3 36 0 0.00 DC Narendra Modi Stadium 29 April 2021\n",
            "Shardul Thakur 3 36 0 0.00 DC Dubai International Stadium 10 October 2021\n",
            "Chetan Sakariya 3 36 1 18.00 MI Sharjah Cricket Stadium 05 October 2021\n",
            "Ravi Bishnoi 4 35 0 0.00 RCB Sharjah Cricket Stadium 03 October 2021\n",
            "Nathan Coulter-Nile 4 35 0 0.00 RR Arun Jaitley Stadium 29 April 2021\n",
            "Jaydev Unadkat 4 35 0 0.00 KKR Sharjah Cricket Stadium 07 October 2021\n",
            "Shardul Thakur 4 35 0 0.00 PBKS Wankhede Stadium 16 April 2021\n",
            "Chetan Sakariya 4 35 0 0.00 RCB Wankhede Stadium 22 April 2021\n",
            "Avesh Khan 4 35 1 24.00 CSK Dubai International Stadium 04 October 2021\n",
            "Sam Curran 4 35 1 24.00 RCB Wankhede Stadium 25 April 2021\n",
            "Deepak Chahar 4 35 1 24.00 RCB Sharjah Cricket Stadium 24 September 2021\n",
            "Prasidh Krishna 4 35 2 12.00 SRH Chidambaram 11 April 2021\n",
            "Arshdeep Singh 4 35 2 12.00 CSK Dubai International Stadium 07 October 2021\n",
            "Trent Boult 4 35 2 12.00 CSK Dubai International Stadium 19 September 2021\n",
            "Lungi Ngidi 4 35 2 12.00 SRH Arun Jaitley Stadium 28 April 2021\n",
            "Arshdeep Singh 4 35 3 8.00 RR Wankhede Stadium 12 April 2021\n",
            "Tom Curran 3.4 35 0 0.00 RR Wankhede Stadium 15 April 2021\n",
            "Riley Meredith 3.4 35 1 22.00 DC Narendra Modi Stadium 02 May 2021\n",
            "Sandeep Sharma 3 35 0 0.00 KKR Chidambaram 11 April 2021\n",
            "Shreyas Gopal 3 35 0 0.00 RCB Wankhede Stadium 22 April 2021\n",
            "Adil Rashid 3 35 0 0.00 RR Dubai International Stadium 21 September 2021\n",
            "Lalit Yadav 3 35 1 18.00 KKR Sharjah Cricket Stadium 28 September 2021\n",
            "Riley Meredith 2.2 35 1 14.00 DC Wankhede Stadium 18 April 2021\n",
            "Josh Hazlewood 4 34 0 0.00 RCB Sharjah Cricket Stadium 24 September 2021\n",
            "Tabraiz Shamsi 4 34 0 0.00 DC Zayed Cricket Stadium 25 September 2021\n",
            "Bhuvneshwar Kumar 4 34 0 0.00 CSK Sharjah Cricket Stadium 30 September 2021\n",
            "Ishant Sharma 4 34 0 0.00 KKR Narendra Modi Stadium 29 April 2021\n",
            "Varun Chakaravarthy 4 34 0 0.00 DC Narendra Modi Stadium 29 April 2021\n",
            "Sunil Narine 4 34 1 24.00 PBKS Dubai International Stadium 01 October 2021\n",
            "Yuzvendra Chahal 4 34 1 24.00 PBKS Narendra Modi Stadium 30 April 2021\n",
            "Josh Hazlewood 4 34 1 24.00 MI Dubai International Stadium 19 September 2021\n",
            "Bhuvneshwar Kumar 4 34 1 24.00 PBKS Sharjah Cricket Stadium 25 September 2021\n",
            "Harshal Patel 4 34 1 24.00 DC Dubai International Stadium 08 October 2021\n",
            "Sunil Narine 4 34 1 24.00 CSK Wankhede Stadium 21 April 2021\n"
          ]
        }
      ]
    }
  ]
}