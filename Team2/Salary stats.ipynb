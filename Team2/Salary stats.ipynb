{
 "cells": [
  {
   "cell_type": "code",
   "execution_count": 51,
   "metadata": {},
   "outputs": [],
   "source": [
    "import pandas as pd\n",
    "from bs4 import BeautifulSoup\n",
    "from urllib.request import urlopen\n",
    "import requests\n",
    "\n",
    "url = 'https://www.fincash.com/l/sports/ipl-2020-players-list-and-pricing-details'\n",
    "web = urlopen(url)\n",
    "source = BeautifulSoup(web, 'html.parser')\n"
   ]
  },
  {
   "cell_type": "code",
   "execution_count": 54,
   "metadata": {},
   "outputs": [],
   "source": [
    "frames=[]\n",
    "for i in range(8):\n",
    "    table_i = source.find_all('table')[i]\n",
    "    table_rows = table_i.find_all('tr')[1:]\n",
    "    for tr in table_rows:\n",
    "        l=[]\n",
    "        td = tr.find_all('td')\n",
    "        row = [str(tr.get_text()).strip() for tr in td]\n",
    "        l.append(row)\n",
    "        frames.append(l)\n",
    "df = pd.DataFrame(data=(frames),columns=['Overview'])\n",
    "df\n",
    "salary_stats = pd.DataFrame(df['Overview'].to_list(), columns=['Player','Role','Price'])\n",
    "salary_stats\n",
    "salary_stats.drop('Role',axis=1,inplace=True)\n",
    "salary_stats.to_csv('salary_stats.csv',index=False)"
   ]
  },
  {
   "cell_type": "code",
   "execution_count": null,
   "metadata": {},
   "outputs": [],
   "source": []
  }
 ],
 "metadata": {
  "kernelspec": {
   "display_name": "Python 3",
   "language": "python",
   "name": "python3"
  },
  "language_info": {
   "codemirror_mode": {
    "name": "ipython",
    "version": 3
   },
   "file_extension": ".py",
   "mimetype": "text/x-python",
   "name": "python",
   "nbconvert_exporter": "python",
   "pygments_lexer": "ipython3",
   "version": "3.8.5"
  }
 },
 "nbformat": 4,
 "nbformat_minor": 4
}
