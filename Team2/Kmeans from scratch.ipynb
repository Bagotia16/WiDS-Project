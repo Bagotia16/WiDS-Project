{
 "cells": [
  {
   "cell_type": "code",
   "execution_count": 1,
   "metadata": {},
   "outputs": [],
   "source": [
    "import numpy as np\n",
    "import pandas as pd\n",
    "import numpy.matlib\n",
    "import matplotlib.pyplot as plt\n",
    "import seaborn as sns\n",
    "%matplotlib inline\n",
    "from matplotlib import style"
   ]
  },
  {
   "cell_type": "code",
   "execution_count": 2,
   "metadata": {},
   "outputs": [
    {
     "data": {
      "text/plain": [
       "array([[4.0e+06, 1.6e+01, 1.6e+01, ..., 0.0e+00, 0.0e+00, 0.0e+00],\n",
       "       [1.6e+07, 1.6e+01, 1.6e+01, ..., 0.0e+00, 0.0e+00, 0.0e+00],\n",
       "       [1.1e+08, 1.3e+01, 1.3e+01, ..., 0.0e+00, 0.0e+00, 0.0e+00],\n",
       "       ...,\n",
       "       [2.0e+06, 0.0e+00, 0.0e+00, ..., 0.0e+00, 0.0e+00, 0.0e+00],\n",
       "       [1.5e+07, 0.0e+00, 0.0e+00, ..., 0.0e+00, 0.0e+00, 0.0e+00],\n",
       "       [7.5e+06, 0.0e+00, 0.0e+00, ..., 0.0e+00, 0.0e+00, 0.0e+00]])"
      ]
     },
     "execution_count": 2,
     "metadata": {},
     "output_type": "execute_result"
    }
   ],
   "source": [
    "import pandas as pd\n",
    "\n",
    "df = pd.read_excel (r'C:\\Users\\asus\\Documents\\Web Scraping for project\\ipl_final_12Jan.xlsx')\n",
    "df.drop([\"Player\", \"Team\"], axis=1, inplace=True)\n",
    "cluster_array= np.array(df)\n",
    "cluster_array"
   ]
  },
  {
   "cell_type": "code",
   "execution_count": 3,
   "metadata": {},
   "outputs": [],
   "source": [
    "def calc_distance(X1, X2):\n",
    "    return (sum((X1 - X2)**2))**0.5"
   ]
  },
  {
   "cell_type": "code",
   "execution_count": 4,
   "metadata": {},
   "outputs": [],
   "source": [
    "# Assign cluster clusters based on closest centroid\n",
    "def assign_clusters(centroids, cluster_array):\n",
    "    clusters = []\n",
    "    for i in range(cluster_array.shape[0]):\n",
    "        distances = []\n",
    "        for centroid in centroids:\n",
    "            distances.append(calc_distance(centroid, \n",
    "                                           cluster_array[i]))\n",
    "        cluster = [z for z, val in enumerate(distances) if val==min(distances)]\n",
    "        clusters.append(cluster[0])\n",
    "    return clusters"
   ]
  },
  {
   "cell_type": "code",
   "execution_count": 5,
   "metadata": {},
   "outputs": [],
   "source": [
    "# Calculate new centroids based on each cluster's mean\n",
    "def calc_centroids(clusters, cluster_array):\n",
    "    new_centroids = []\n",
    "    cluster_df = pd.concat([pd.DataFrame(cluster_array),\n",
    "                            pd.DataFrame(clusters, \n",
    "                                         columns=['cluster'])], \n",
    "                           axis=1)\n",
    "    for c in set(cluster_df['cluster']):\n",
    "        current_cluster = cluster_df[cluster_df['cluster']\\\n",
    "                                     ==c][cluster_df.columns[:-1]]\n",
    "        cluster_mean = current_cluster.mean(axis=0)\n",
    "        new_centroids.append(cluster_mean)\n",
    "    return new_centroids"
   ]
  },
  {
   "cell_type": "code",
   "execution_count": 6,
   "metadata": {},
   "outputs": [],
   "source": [
    "# Calculate variance within each cluster\n",
    "def calc_centroid_variance(clusters, cluster_array):\n",
    "    sum_squares = []\n",
    "    cluster_df = pd.concat([pd.DataFrame(cluster_array),\n",
    "                            pd.DataFrame(clusters, \n",
    "                                         columns=['cluster'])], \n",
    "                           axis=1)\n",
    "    for c in set(cluster_df['cluster']):\n",
    "        current_cluster = cluster_df[cluster_df['cluster']\\\n",
    "                                     ==c][cluster_df.columns[:-1]]\n",
    "        cluster_mean = current_cluster.mean(axis=0)\n",
    "        mean_repmat = np.matlib.repmat(cluster_mean, \n",
    "                                       current_cluster.shape[0],1)\n",
    "        sum_squares.append(np.sum(np.sum((current_cluster - mean_repmat)**2)))\n",
    "    return sum_squares"
   ]
  },
  {
   "cell_type": "code",
   "execution_count": 7,
   "metadata": {},
   "outputs": [
    {
     "name": "stdout",
     "output_type": "stream",
     "text": [
      "0 22157898065762452\n",
      "1 16389633823028496\n",
      "2 14400106522281114\n",
      "3 13010628060826738\n",
      "4 12176055876994186\n",
      "5 10396489137944968\n",
      "6 9572501738363434\n",
      "7 9495967795724526\n",
      "8 9495967795724526\n",
      "9 9495967795724526\n",
      "10 9495967795724526\n",
      "11 9495967795724526\n",
      "12 9495967795724526\n",
      "13 9495967795724526\n",
      "14 9495967795724526\n",
      "15 9495967795724526\n",
      "16 9495967795724526\n",
      "17 9495967795724526\n",
      "18 9495967795724526\n",
      "19 9495967795724526\n",
      "20 9495967795724526\n",
      "21 9495967795724526\n",
      "22 9495967795724526\n",
      "23 9495967795724526\n",
      "24 9495967795724526\n",
      "25 9495967795724526\n",
      "26 9495967795724526\n",
      "27 9495967795724526\n",
      "28 9495967795724526\n",
      "29 9495967795724526\n",
      "30 9495967795724526\n",
      "31 9495967795724526\n",
      "32 9495967795724526\n",
      "33 9495967795724526\n",
      "34 9495967795724526\n",
      "35 9495967795724526\n",
      "36 9495967795724526\n",
      "37 9495967795724526\n",
      "38 9495967795724526\n",
      "39 9495967795724526\n",
      "40 9495967795724526\n",
      "41 9495967795724526\n",
      "42 9495967795724526\n",
      "43 9495967795724526\n",
      "44 9495967795724526\n",
      "45 9495967795724526\n",
      "46 9495967795724526\n",
      "47 9495967795724526\n",
      "48 9495967795724526\n",
      "49 9495967795724526\n",
      "50 9495967795724526\n",
      "51 9495967795724526\n",
      "52 9495967795724526\n",
      "53 9495967795724526\n",
      "54 9495967795724526\n",
      "55 9495967795724526\n",
      "56 9495967795724526\n",
      "57 9495967795724526\n",
      "58 9495967795724526\n",
      "59 9495967795724526\n",
      "60 9495967795724526\n",
      "61 9495967795724526\n",
      "62 9495967795724526\n",
      "63 9495967795724526\n",
      "64 9495967795724526\n",
      "65 9495967795724526\n",
      "66 9495967795724526\n",
      "67 9495967795724526\n",
      "68 9495967795724526\n",
      "69 9495967795724526\n",
      "70 9495967795724526\n",
      "71 9495967795724526\n",
      "72 9495967795724526\n",
      "73 9495967795724526\n",
      "74 9495967795724526\n",
      "75 9495967795724526\n",
      "76 9495967795724526\n",
      "77 9495967795724526\n",
      "78 9495967795724526\n",
      "79 9495967795724526\n",
      "80 9495967795724526\n",
      "81 9495967795724526\n",
      "82 9495967795724526\n",
      "83 9495967795724526\n",
      "84 9495967795724526\n",
      "85 9495967795724526\n",
      "86 9495967795724526\n",
      "87 9495967795724526\n",
      "88 9495967795724526\n",
      "89 9495967795724526\n",
      "90 9495967795724526\n",
      "91 9495967795724526\n",
      "92 9495967795724526\n",
      "93 9495967795724526\n",
      "94 9495967795724526\n",
      "95 9495967795724526\n",
      "96 9495967795724526\n",
      "97 9495967795724526\n",
      "98 9495967795724526\n",
      "99 9495967795724526\n",
      "100 9495967795724526\n"
     ]
    }
   ],
   "source": [
    "k = 3\n",
    "cluster_vars = []\n",
    "centroids = [cluster_array[i+2] for i in range(k)]\n",
    "clusters = assign_clusters(centroids, cluster_array)\n",
    "initial_clusters = clusters\n",
    "print(0, round(np.mean(calc_centroid_variance(clusters, cluster_array))))\n",
    "for i in range(100):\n",
    "    centroids = calc_centroids(clusters, cluster_array)\n",
    "    clusters = assign_clusters(centroids, cluster_array)\n",
    "    cluster_var = np.mean(calc_centroid_variance(clusters, \n",
    "                                                 cluster_array))\n",
    "    cluster_vars.append(cluster_var)\n",
    "    print(i+1, round(cluster_var))"
   ]
  },
  {
   "cell_type": "code",
   "execution_count": 8,
   "metadata": {},
   "outputs": [],
   "source": [
    "class K_Means:\n",
    "    def __init__(self, k=3, tol=0.001, max_iter=300):\n",
    "        self.k = k\n",
    "        self.tol = tol\n",
    "        self.max_iter = max_iter\n",
    "\n",
    "    def fit(self,data):\n",
    "\n",
    "        self.centroids = {}\n",
    "\n",
    "        for i in range(self.k):\n",
    "            self.centroids[i] = data[i]\n",
    "\n",
    "        for i in range(self.max_iter):\n",
    "            self.classifications = {}\n",
    "\n",
    "            for i in range(self.k):\n",
    "                self.classifications[i] = []\n",
    "\n",
    "            for featureset in data:\n",
    "                distances = [np.linalg.norm(featureset-self.centroids[centroid]) for centroid in self.centroids]\n",
    "                classification = distances.index(min(distances))\n",
    "                self.classifications[classification].append(featureset)\n",
    "\n",
    "            prev_centroids = dict(self.centroids)\n",
    "\n",
    "            for classification in self.classifications:\n",
    "                self.centroids[classification] = np.average(self.classifications[classification],axis=0)\n",
    "\n",
    "            optimized = True\n",
    "\n",
    "            for c in self.centroids:\n",
    "                original_centroid = prev_centroids[c]\n",
    "                current_centroid = self.centroids[c]\n",
    "                if np.sum((current_centroid-original_centroid)/original_centroid*100.0) > self.tol:\n",
    "                    print(np.sum((current_centroid-original_centroid)/original_centroid*100.0))\n",
    "                    optimized = False\n",
    "\n",
    "            if optimized:\n",
    "                break\n",
    "\n",
    "    def predict(self,data):\n",
    "        distances = [np.linalg.norm(data-self.centroids[centroid]) for centroid in self.centroids]\n",
    "        classification = distances.index(min(distances))\n",
    "        return classification"
   ]
  },
  {
   "cell_type": "code",
   "execution_count": 12,
   "metadata": {},
   "outputs": [
    {
     "name": "stderr",
     "output_type": "stream",
     "text": [
      "<ipython-input-8-bd897d61dd29>:35: RuntimeWarning: divide by zero encountered in true_divide\n",
      "  if np.sum((current_centroid-original_centroid)/original_centroid*100.0) > self.tol:\n",
      "<ipython-input-8-bd897d61dd29>:36: RuntimeWarning: divide by zero encountered in true_divide\n",
      "  print(np.sum((current_centroid-original_centroid)/original_centroid*100.0))\n",
      "<ipython-input-8-bd897d61dd29>:35: RuntimeWarning: invalid value encountered in true_divide\n",
      "  if np.sum((current_centroid-original_centroid)/original_centroid*100.0) > self.tol:\n"
     ]
    },
    {
     "name": "stdout",
     "output_type": "stream",
     "text": [
      "inf\n",
      "724.2813313647381\n"
     ]
    },
    {
     "data": {
      "image/png": "[encoded data removed]",
      "text/plain": [
       "<Figure size 432x288 with 1 Axes>"
      ]
     },
     "metadata": {
      "needs_background": "light"
     },
     "output_type": "display_data"
    }
   ],
   "source": [
    "colors = 10*[\"g\",\"r\",\"c\",\"b\",\"k\"]\n",
    "clf = K_Means()\n",
    "clf.fit(cluster_array)\n",
    "\n",
    "for centroid in clf.centroids:\n",
    "    plt.scatter(clf.centroids[centroid][0], clf.centroids[centroid][1],\n",
    "                marker=\"*\", color=\"red\", s=150, edgecolor='black')\n",
    "\n",
    "for classification in clf.classifications:\n",
    "    color = colors[classification]\n",
    "    for featureset in clf.classifications[classification]:\n",
    "        plt.scatter(featureset[0], featureset[1], marker=\"o\", color=color, s=50, )\n",
    "        \n",
    "plt.show()"
   ]
  },
  {
   "cell_type": "code",
   "execution_count": null,
   "metadata": {},
   "outputs": [],
   "source": []
  }
 ],
 "metadata": {
  "kernelspec": {
   "display_name": "Python 3",
   "language": "python",
   "name": "python3"
  },
  "language_info": {
   "codemirror_mode": {
    "name": "ipython",
    "version": 3
   },
   "file_extension": ".py",
   "mimetype": "text/x-python",
   "name": "python",
   "nbconvert_exporter": "python",
   "pygments_lexer": "ipython3",
   "version": "3.8.5"
  }
 },
 "nbformat": 4,
 "nbformat_minor": 4
}
